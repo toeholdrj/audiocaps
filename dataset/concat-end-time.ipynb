{
 "cells": [
  {
   "cell_type": "code",
   "execution_count": 11,
   "id": "21b7e505",
   "metadata": {},
   "outputs": [],
   "source": [
    "import pandas as pd\n",
    "import os\n",
    "import numpy as np"
   ]
  },
  {
   "cell_type": "code",
   "execution_count": 2,
   "id": "0d119553",
   "metadata": {},
   "outputs": [
    {
     "name": "stdout",
     "output_type": "stream",
     "text": [
      "README.md                      train.csv\r\n",
      "concat-end-time.ipynb          unbalanced_train_segments.csv\r\n",
      "eval_segments.csv              val.csv\r\n",
      "test.csv\r\n"
     ]
    }
   ],
   "source": [
    "ls"
   ]
  },
  {
   "cell_type": "code",
   "execution_count": 42,
   "id": "23af4f96",
   "metadata": {},
   "outputs": [],
   "source": [
    "def get_as_all():\n",
    "    df_tr = pd.read_csv(\n",
    "            \"unbalanced_train_segments.csv\",\n",
    "            header=2,\n",
    "            sep=\",\",\n",
    "            quotechar='\"',\n",
    "            skipinitialspace=True,\n",
    "            dtype={\n",
    "                'YTID': str,\n",
    "                'start_seconds': float,\n",
    "                'end_seconds': float,\n",
    "                'positive_labels': str,\n",
    "            },\n",
    "        )\n",
    "    df_tr = df_tr.rename(columns={\"# YTID\":\"youtube_id\"}) \n",
    "    df_tr['google_official_split'] = 'train'\n",
    "    \n",
    "    df_ev = pd.read_csv(\n",
    "            \"eval_segments.csv\",\n",
    "            header=2,\n",
    "            sep=\",\",\n",
    "            quotechar='\"',\n",
    "            skipinitialspace=True,\n",
    "            dtype={\n",
    "                'YTID': str,\n",
    "                'start_seconds': float,\n",
    "                'end_seconds': float,\n",
    "                'positive_labels': str,\n",
    "            },\n",
    "        )\n",
    "    df_ev = df_ev.rename(columns={\"# YTID\":\"youtube_id\"}) \n",
    "    df_ev['google_official_split'] = 'eval'\n",
    "    \n",
    "    return pd.concat([df_tr, df_ev])\n",
    "    "
   ]
  },
  {
   "cell_type": "code",
   "execution_count": 43,
   "id": "2588da3a",
   "metadata": {},
   "outputs": [],
   "source": [
    "df_as = get_as_all()"
   ]
  },
  {
   "cell_type": "code",
   "execution_count": 44,
   "id": "7231d494",
   "metadata": {},
   "outputs": [
    {
     "data": {
      "text/html": [
       "<div>\n",
       "<style scoped>\n",
       "    .dataframe tbody tr th:only-of-type {\n",
       "        vertical-align: middle;\n",
       "    }\n",
       "\n",
       "    .dataframe tbody tr th {\n",
       "        vertical-align: top;\n",
       "    }\n",
       "\n",
       "    .dataframe thead th {\n",
       "        text-align: right;\n",
       "    }\n",
       "</style>\n",
       "<table border=\"1\" class=\"dataframe\">\n",
       "  <thead>\n",
       "    <tr style=\"text-align: right;\">\n",
       "      <th></th>\n",
       "      <th>youtube_id</th>\n",
       "      <th>start_seconds</th>\n",
       "      <th>end_seconds</th>\n",
       "      <th>positive_labels</th>\n",
       "      <th>google_official_split</th>\n",
       "    </tr>\n",
       "  </thead>\n",
       "  <tbody>\n",
       "    <tr>\n",
       "      <th>0</th>\n",
       "      <td>---1_cCGK4M</td>\n",
       "      <td>0.0</td>\n",
       "      <td>10.0</td>\n",
       "      <td>/m/01g50p,/m/0284vy3,/m/06d_3,/m/07jdr,/m/07rwm0c</td>\n",
       "      <td>train</td>\n",
       "    </tr>\n",
       "    <tr>\n",
       "      <th>1</th>\n",
       "      <td>---2_BBVHAA</td>\n",
       "      <td>30.0</td>\n",
       "      <td>40.0</td>\n",
       "      <td>/m/09x0r</td>\n",
       "      <td>train</td>\n",
       "    </tr>\n",
       "    <tr>\n",
       "      <th>2</th>\n",
       "      <td>---B_v8ZoBY</td>\n",
       "      <td>30.0</td>\n",
       "      <td>40.0</td>\n",
       "      <td>/m/04rlf</td>\n",
       "      <td>train</td>\n",
       "    </tr>\n",
       "    <tr>\n",
       "      <th>3</th>\n",
       "      <td>---EDNidJUA</td>\n",
       "      <td>30.0</td>\n",
       "      <td>40.0</td>\n",
       "      <td>/m/02qldy,/m/02zsn,/m/05zppz,/m/09x0r</td>\n",
       "      <td>train</td>\n",
       "    </tr>\n",
       "    <tr>\n",
       "      <th>4</th>\n",
       "      <td>---N4cFAE1A</td>\n",
       "      <td>21.0</td>\n",
       "      <td>31.0</td>\n",
       "      <td>/m/04rlf,/m/09x0r</td>\n",
       "      <td>train</td>\n",
       "    </tr>\n",
       "    <tr>\n",
       "      <th>...</th>\n",
       "      <td>...</td>\n",
       "      <td>...</td>\n",
       "      <td>...</td>\n",
       "      <td>...</td>\n",
       "      <td>...</td>\n",
       "    </tr>\n",
       "    <tr>\n",
       "      <th>20366</th>\n",
       "      <td>zyF8TGSRvns</td>\n",
       "      <td>150.0</td>\n",
       "      <td>160.0</td>\n",
       "      <td>/m/0dwsp,/m/0dwtp,/m/0f8s22,/m/0j45pbj</td>\n",
       "      <td>eval</td>\n",
       "    </tr>\n",
       "    <tr>\n",
       "      <th>20367</th>\n",
       "      <td>zz35Va7tYmA</td>\n",
       "      <td>30.0</td>\n",
       "      <td>40.0</td>\n",
       "      <td>/m/012f08,/m/07q2z82,/m/07qmpdm,/m/0k4j</td>\n",
       "      <td>eval</td>\n",
       "    </tr>\n",
       "    <tr>\n",
       "      <th>20368</th>\n",
       "      <td>zzD_oVgzKMc</td>\n",
       "      <td>30.0</td>\n",
       "      <td>40.0</td>\n",
       "      <td>/m/07pn_8q</td>\n",
       "      <td>eval</td>\n",
       "    </tr>\n",
       "    <tr>\n",
       "      <th>20369</th>\n",
       "      <td>zzNdwF40ID8</td>\n",
       "      <td>70.0</td>\n",
       "      <td>80.0</td>\n",
       "      <td>/m/04rlf,/m/0790c</td>\n",
       "      <td>eval</td>\n",
       "    </tr>\n",
       "    <tr>\n",
       "      <th>20370</th>\n",
       "      <td>zzbTaK7CXJY</td>\n",
       "      <td>30.0</td>\n",
       "      <td>40.0</td>\n",
       "      <td>/m/03m9d0z,/m/07qwyj0,/t/dd00092</td>\n",
       "      <td>eval</td>\n",
       "    </tr>\n",
       "  </tbody>\n",
       "</table>\n",
       "<p>2062160 rows × 5 columns</p>\n",
       "</div>"
      ],
      "text/plain": [
       "        youtube_id  start_seconds  end_seconds  \\\n",
       "0      ---1_cCGK4M            0.0         10.0   \n",
       "1      ---2_BBVHAA           30.0         40.0   \n",
       "2      ---B_v8ZoBY           30.0         40.0   \n",
       "3      ---EDNidJUA           30.0         40.0   \n",
       "4      ---N4cFAE1A           21.0         31.0   \n",
       "...            ...            ...          ...   \n",
       "20366  zyF8TGSRvns          150.0        160.0   \n",
       "20367  zz35Va7tYmA           30.0         40.0   \n",
       "20368  zzD_oVgzKMc           30.0         40.0   \n",
       "20369  zzNdwF40ID8           70.0         80.0   \n",
       "20370  zzbTaK7CXJY           30.0         40.0   \n",
       "\n",
       "                                         positive_labels google_official_split  \n",
       "0      /m/01g50p,/m/0284vy3,/m/06d_3,/m/07jdr,/m/07rwm0c                 train  \n",
       "1                                               /m/09x0r                 train  \n",
       "2                                               /m/04rlf                 train  \n",
       "3                  /m/02qldy,/m/02zsn,/m/05zppz,/m/09x0r                 train  \n",
       "4                                      /m/04rlf,/m/09x0r                 train  \n",
       "...                                                  ...                   ...  \n",
       "20366             /m/0dwsp,/m/0dwtp,/m/0f8s22,/m/0j45pbj                  eval  \n",
       "20367            /m/012f08,/m/07q2z82,/m/07qmpdm,/m/0k4j                  eval  \n",
       "20368                                         /m/07pn_8q                  eval  \n",
       "20369                                  /m/04rlf,/m/0790c                  eval  \n",
       "20370                   /m/03m9d0z,/m/07qwyj0,/t/dd00092                  eval  \n",
       "\n",
       "[2062160 rows x 5 columns]"
      ]
     },
     "execution_count": 44,
     "metadata": {},
     "output_type": "execute_result"
    }
   ],
   "source": [
    "df_as"
   ]
  },
  {
   "cell_type": "code",
   "execution_count": 45,
   "id": "87bc6bc5",
   "metadata": {},
   "outputs": [
    {
     "data": {
      "text/plain": [
       "Index(['youtube_id', 'start_seconds', 'end_seconds', 'positive_labels',\n",
       "       'google_official_split'],\n",
       "      dtype='object')"
      ]
     },
     "execution_count": 45,
     "metadata": {},
     "output_type": "execute_result"
    }
   ],
   "source": [
    "df_as.columns"
   ]
  },
  {
   "cell_type": "code",
   "execution_count": 46,
   "id": "1278e533",
   "metadata": {},
   "outputs": [],
   "source": [
    "df_as.to_csv('audioset-merged.csv', index=False)"
   ]
  },
  {
   "cell_type": "code",
   "execution_count": 10,
   "id": "0ef3ab54",
   "metadata": {},
   "outputs": [],
   "source": [
    "ss = df_as['start_seconds'].to_numpy()"
   ]
  },
  {
   "cell_type": "code",
   "execution_count": 16,
   "id": "2a37a131",
   "metadata": {
    "scrolled": true
   },
   "outputs": [
    {
     "name": "stderr",
     "output_type": "stream",
     "text": [
      "/var/folders/fh/0b80xxrx4r97m_85dxwkcy3r0000gn/T/ipykernel_85411/3881154902.py:3: DeprecationWarning: `np.int` is a deprecated alias for the builtin `int`. To silence this warning, use `int` by itself. Doing this will not modify any behavior and is safe. When replacing `np.int`, you may wish to use e.g. `np.int64` or `np.int32` to specify the precision. If you wish to review your current use, check the release note link for additional information.\n",
      "Deprecated in NumPy 1.20; for more details and guidance: https://numpy.org/devdocs/release/1.20.0-notes.html#deprecations\n",
      "  if s != s.astype(np.int):\n"
     ]
    },
    {
     "name": "stdout",
     "output_type": "stream",
     "text": [
      "61.1\n",
      "118.2\n",
      "98.2\n",
      "24.2\n",
      "7.3\n",
      "76.4\n",
      "97.9\n",
      "103.4\n",
      "131.8\n",
      "168.4\n",
      "97.4\n",
      "101.8\n",
      "21.2\n",
      "280.8\n",
      "102.3\n",
      "24.8\n",
      "100.3\n",
      "147.2\n",
      "451.4\n",
      "62.7\n",
      "53.8\n",
      "55.3\n",
      "4.4\n",
      "8.5\n",
      "50.7\n",
      "255.8\n",
      "7.9\n",
      "54.9\n",
      "14.1\n",
      "206.6\n",
      "130.4\n",
      "9.1\n",
      "37.5\n",
      "17.1\n",
      "74.5\n",
      "48.7\n",
      "451.8\n",
      "168.6\n",
      "9.3\n",
      "222.4\n",
      "111.6\n",
      "75.5\n",
      "5.8\n",
      "262.6\n",
      "135.6\n",
      "116.6\n",
      "172.4\n",
      "39.5\n",
      "3.7\n",
      "98.4\n",
      "127.2\n",
      "69.9\n",
      "49.3\n",
      "101.1\n",
      "55.2\n",
      "41.6\n",
      "108.1\n",
      "3.3\n",
      "33.8\n",
      "12.1\n",
      "123.6\n",
      "541.6\n",
      "417.3\n",
      "202.7\n",
      "122.7\n",
      "65\n"
     ]
    }
   ],
   "source": [
    "counter = 0\n",
    "for s in ss:\n",
    "    if s != s.astype(np.int):\n",
    "        print(s)\n",
    "        counter += 1\n",
    "\n",
    "print(counter)"
   ]
  },
  {
   "cell_type": "code",
   "execution_count": 59,
   "id": "6472621a",
   "metadata": {},
   "outputs": [],
   "source": [
    "df_ac_test = pd.read_csv(\n",
    "            'test.csv',\n",
    "            dtype={\n",
    "                'audiocap_id': str,\n",
    "                'youtube_id': str,\n",
    "                'start_time': int,\n",
    "                'caption': str,\n",
    "            },\n",
    "        )\n",
    "\n",
    "# insert_start_end_column\n",
    "# df_ac_train"
   ]
  },
  {
   "cell_type": "code",
   "execution_count": 60,
   "id": "e6580854",
   "metadata": {},
   "outputs": [],
   "source": [
    "df_ac_val = pd.read_csv(\n",
    "            'val.csv',\n",
    "            dtype={\n",
    "                'audiocap_id': str,\n",
    "                'youtube_id': str,\n",
    "                'start_time': int,\n",
    "                'caption': str,\n",
    "            },\n",
    "        )\n",
    "\n",
    "# insert_start_end_column\n",
    "# df_ac_train"
   ]
  },
  {
   "cell_type": "code",
   "execution_count": 48,
   "id": "0b432ce2",
   "metadata": {},
   "outputs": [
    {
     "data": {
      "text/html": [
       "<div>\n",
       "<style scoped>\n",
       "    .dataframe tbody tr th:only-of-type {\n",
       "        vertical-align: middle;\n",
       "    }\n",
       "\n",
       "    .dataframe tbody tr th {\n",
       "        vertical-align: top;\n",
       "    }\n",
       "\n",
       "    .dataframe thead th {\n",
       "        text-align: right;\n",
       "    }\n",
       "</style>\n",
       "<table border=\"1\" class=\"dataframe\">\n",
       "  <thead>\n",
       "    <tr style=\"text-align: right;\">\n",
       "      <th></th>\n",
       "      <th>audiocap_id</th>\n",
       "      <th>youtube_id</th>\n",
       "      <th>start_time</th>\n",
       "      <th>caption</th>\n",
       "    </tr>\n",
       "  </thead>\n",
       "  <tbody>\n",
       "    <tr>\n",
       "      <th>0</th>\n",
       "      <td>91139</td>\n",
       "      <td>r1nicOVtvkQ</td>\n",
       "      <td>130</td>\n",
       "      <td>A woman talks nearby as water pours</td>\n",
       "    </tr>\n",
       "    <tr>\n",
       "      <th>1</th>\n",
       "      <td>58146</td>\n",
       "      <td>UDGBjjwyaqE</td>\n",
       "      <td>20</td>\n",
       "      <td>Multiple clanging and clanking sounds</td>\n",
       "    </tr>\n",
       "    <tr>\n",
       "      <th>2</th>\n",
       "      <td>11542</td>\n",
       "      <td>3eJ9RynJzP8</td>\n",
       "      <td>80</td>\n",
       "      <td>The wind is blowing, insects are singing, and ...</td>\n",
       "    </tr>\n",
       "    <tr>\n",
       "      <th>3</th>\n",
       "      <td>11543</td>\n",
       "      <td>3eK62q7SnVU</td>\n",
       "      <td>390</td>\n",
       "      <td>The wind is blowing and rustling occurs</td>\n",
       "    </tr>\n",
       "    <tr>\n",
       "      <th>4</th>\n",
       "      <td>11540</td>\n",
       "      <td>3eGXNIadwGk</td>\n",
       "      <td>30</td>\n",
       "      <td>Person is whistling</td>\n",
       "    </tr>\n",
       "    <tr>\n",
       "      <th>...</th>\n",
       "      <td>...</td>\n",
       "      <td>...</td>\n",
       "      <td>...</td>\n",
       "      <td>...</td>\n",
       "    </tr>\n",
       "    <tr>\n",
       "      <th>49833</th>\n",
       "      <td>88971</td>\n",
       "      <td>pOMFhtRo_gU</td>\n",
       "      <td>30</td>\n",
       "      <td>Background whirring punctuated with swipe and ...</td>\n",
       "    </tr>\n",
       "    <tr>\n",
       "      <th>49834</th>\n",
       "      <td>88973</td>\n",
       "      <td>pONs-WiLqjk</td>\n",
       "      <td>50</td>\n",
       "      <td>A person laughs with some banging and rattling</td>\n",
       "    </tr>\n",
       "    <tr>\n",
       "      <th>49835</th>\n",
       "      <td>38849</td>\n",
       "      <td>HW7zqURSqdo</td>\n",
       "      <td>200</td>\n",
       "      <td>People talk and laugh loudly nearby</td>\n",
       "    </tr>\n",
       "    <tr>\n",
       "      <th>49836</th>\n",
       "      <td>88975</td>\n",
       "      <td>pOXQNWFHJYU</td>\n",
       "      <td>150</td>\n",
       "      <td>A man speaking with light rainfall and a diffe...</td>\n",
       "    </tr>\n",
       "    <tr>\n",
       "      <th>49837</th>\n",
       "      <td>38347</td>\n",
       "      <td>HC-utKUX3a4</td>\n",
       "      <td>50</td>\n",
       "      <td>Humming with a distant train horn blowing</td>\n",
       "    </tr>\n",
       "  </tbody>\n",
       "</table>\n",
       "<p>49838 rows × 4 columns</p>\n",
       "</div>"
      ],
      "text/plain": [
       "      audiocap_id   youtube_id  start_time  \\\n",
       "0           91139  r1nicOVtvkQ         130   \n",
       "1           58146  UDGBjjwyaqE          20   \n",
       "2           11542  3eJ9RynJzP8          80   \n",
       "3           11543  3eK62q7SnVU         390   \n",
       "4           11540  3eGXNIadwGk          30   \n",
       "...           ...          ...         ...   \n",
       "49833       88971  pOMFhtRo_gU          30   \n",
       "49834       88973  pONs-WiLqjk          50   \n",
       "49835       38849  HW7zqURSqdo         200   \n",
       "49836       88975  pOXQNWFHJYU         150   \n",
       "49837       38347  HC-utKUX3a4          50   \n",
       "\n",
       "                                                 caption  \n",
       "0                    A woman talks nearby as water pours  \n",
       "1                  Multiple clanging and clanking sounds  \n",
       "2      The wind is blowing, insects are singing, and ...  \n",
       "3                The wind is blowing and rustling occurs  \n",
       "4                                    Person is whistling  \n",
       "...                                                  ...  \n",
       "49833  Background whirring punctuated with swipe and ...  \n",
       "49834     A person laughs with some banging and rattling  \n",
       "49835                People talk and laugh loudly nearby  \n",
       "49836  A man speaking with light rainfall and a diffe...  \n",
       "49837          Humming with a distant train horn blowing  \n",
       "\n",
       "[49838 rows x 4 columns]"
      ]
     },
     "execution_count": 48,
     "metadata": {},
     "output_type": "execute_result"
    }
   ],
   "source": [
    "df_ac_train = pd.read_csv(\n",
    "            'train.csv',\n",
    "            dtype={\n",
    "                'audiocap_id': str,\n",
    "                'youtube_id': str,\n",
    "                'start_time': int,\n",
    "                'caption': str,\n",
    "            },\n",
    "        )\n",
    "\n",
    "# insert_start_end_column\n",
    "df_ac_train"
   ]
  },
  {
   "cell_type": "code",
   "execution_count": 54,
   "id": "1aff0370",
   "metadata": {},
   "outputs": [
    {
     "data": {
      "text/plain": [
       "audiocap_id    object\n",
       "youtube_id     object\n",
       "start_time      int64\n",
       "caption        object\n",
       "dtype: object"
      ]
     },
     "execution_count": 54,
     "metadata": {},
     "output_type": "execute_result"
    }
   ],
   "source": [
    "df_ac_train.dtypes"
   ]
  },
  {
   "cell_type": "code",
   "execution_count": 55,
   "id": "3e45d5a0",
   "metadata": {},
   "outputs": [
    {
     "data": {
      "text/plain": [
       "youtube_id                object\n",
       "start_seconds            float64\n",
       "end_seconds              float64\n",
       "positive_labels           object\n",
       "google_official_split     object\n",
       "dtype: object"
      ]
     },
     "execution_count": 55,
     "metadata": {},
     "output_type": "execute_result"
    }
   ],
   "source": [
    "df_as.dtypes"
   ]
  },
  {
   "cell_type": "code",
   "execution_count": 56,
   "id": "33a241de",
   "metadata": {},
   "outputs": [],
   "source": [
    "def insert_start_end_column(df_ac, df_as):\n",
    "    return df_ac.merge(df_as, on='youtube_id')\n"
   ]
  },
  {
   "cell_type": "code",
   "execution_count": 62,
   "id": "6aa24ce6",
   "metadata": {
    "scrolled": false
   },
   "outputs": [],
   "source": [
    "merged_df_ac_train = insert_start_end_column(df_ac_train, df_as)\n",
    "merged_df_ac_train.to_csv('train_merged.csv', index=False)"
   ]
  },
  {
   "cell_type": "code",
   "execution_count": 63,
   "id": "f068e986",
   "metadata": {},
   "outputs": [],
   "source": [
    "merged_df_ac_val = insert_start_end_column(df_ac_val, df_as)\n",
    "merged_df_ac_val.to_csv('val_merged.csv', index=False)\n",
    "\n",
    "merged_df_ac_test = insert_start_end_column(df_ac_test, df_as)\n",
    "merged_df_ac_test.to_csv('test_merged.csv', index=False)"
   ]
  },
  {
   "cell_type": "code",
   "execution_count": null,
   "id": "7735bb0b",
   "metadata": {},
   "outputs": [],
   "source": []
  }
 ],
 "metadata": {
  "kernelspec": {
   "display_name": "Python 3 (ipykernel)",
   "language": "python",
   "name": "python3"
  },
  "language_info": {
   "codemirror_mode": {
    "name": "ipython",
    "version": 3
   },
   "file_extension": ".py",
   "mimetype": "text/x-python",
   "name": "python",
   "nbconvert_exporter": "python",
   "pygments_lexer": "ipython3",
   "version": "3.10.4"
  }
 },
 "nbformat": 4,
 "nbformat_minor": 5
}
